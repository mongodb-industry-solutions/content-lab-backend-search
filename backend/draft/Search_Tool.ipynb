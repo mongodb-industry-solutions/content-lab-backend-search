{
 "cells": [
  {
   "cell_type": "code",
   "execution_count": 1,
   "id": "b917a874-2280-42aa-b0a4-429c050114b6",
   "metadata": {},
   "outputs": [
    {
     "name": "stderr",
     "output_type": "stream",
     "text": [
      "UsageError: Line magic function `%pip3` not found.\n"
     ]
    }
   ],
   "source": [
    "%pip3 install -qU duckduckgo-search langchain-community"
   ]
  },
  {
   "cell_type": "code",
   "execution_count": null,
   "id": "328cff79",
   "metadata": {},
   "outputs": [
    {
     "name": "stderr",
     "output_type": "stream",
     "text": [
      "/Library/Frameworks/Python.framework/Versions/3.10/lib/python3.10/site-packages/langchain_community/utilities/duckduckgo_search.py:63: RuntimeWarning: This package (`duckduckgo_search`) has been renamed to `ddgs`! Use `pip install ddgs` instead.\n",
      "  with DDGS() as ddgs:\n"
     ]
    },
    {
     "data": {
      "text/plain": [
       "\"1 day ago · Barack Obama was the first African American president of the United States (2009–17). He oversaw the recovery of the U.S. economy (from the Great Recession of …Barack Obama - 44th President, Political Career, Legacy: In 1996 he was elected …In July Obama appeared in a video with Biden, the Democratic Party’s …Barack Obama - Budget Battles, Presidency, Legacy: Partisan …Barack Obama - Health Care Reform: Health care reform, popular with …Barack Obama - Scandals, Challenges, Politics: In May 2013 the Obama …Barack Obama - Iraq, Afghanistan, Politics: For all of Obama’s efforts at …Michelle Obama (born January 17, 1964, Chicago, Illinois, U.S.) is an American …Obama’s father, Barack Obama, Sr., was a teenage goatherd in rural Kenya, won a … Feb 5, 2025 · Birth place: Honolulu, Hawaii. Birth name: Barack Hussein Obama Jr. Father: Barack Hussein Obama, goat herder-turned-economist. Mother: Stanley Ann (Dunham) … Nov 7, 2024 · Is Barack Obama's last name Hussein? No, his last name is Obama. His first name is Barack, and his middle name is Hussein. 4 days ago · Presidents of the United States have often acquired nicknames, both flattering and unflattering. This list is intended to note those nicknames that were in common use at the time … Feb 14, 2025 · His first name is Barack, and his middle name is Hussein. The last name Obama originated from Kenya, Africa. Which is home to Barack Obama's Father. Barack Hussein …\""
      ]
     },
     "execution_count": 1,
     "metadata": {},
     "output_type": "execute_result"
    }
   ],
   "source": [
    "from langchain_community.tools import DuckDuckGoSearchRun\n",
    "\n",
    "search = DuckDuckGoSearchRun()\n",
    "\n",
    "search.invoke(\"Obama's first name?\")"
   ]
  },
  {
   "cell_type": "code",
   "execution_count": null,
   "id": "14388893",
   "metadata": {},
   "outputs": [
    {
     "name": "stderr",
     "output_type": "stream",
     "text": [
      "/Library/Frameworks/Python.framework/Versions/3.10/lib/python3.10/site-packages/langchain_community/utilities/duckduckgo_search.py:63: RuntimeWarning: This package (`duckduckgo_search`) has been renamed to `ddgs`! Use `pip install ddgs` instead.\n",
      "  with DDGS() as ddgs:\n"
     ]
    },
    {
     "data": {
      "text/plain": [
       "'snippet: 1 day ago · Barack Obama, the 44th President of the United States, broke barriers as the first African-American president and …, title: Barack Obama | Biography, Parents, Education, Presidency, Books ..., link: https://www.britannica.com/biography/Barack-Obama, snippet: Barack Hussein Obama II 1 [bəˈɹɑːk hʊˈseɪn oʊˈbɑːmə] ⓘ (* 4. August 1961 in Honolulu, Hawaii) ist ein US-amerikanischer Politiker …, title: Barack Obama – Wikipedia, link: https://de.m.wikipedia.org/wiki/Barack_Obama, snippet: Jun 18, 2025 · Ante un grupo cívico en Hartford, Connecticut, el expresidente emitió críticas veladas y reflexiones durante un período …, title: Obama reaparece y advierte de peligros para la democracia ..., link: https://www.nytimes.com/es/2025/06/18/espanol/estados-unidos/obama-democracia-usa.html, snippet: 6 days ago · La política migratoria de las dos gestiones de Obama ha sido la más dura en tres lustros, mientras que la Administración …, title: Barack Obama en EL PAÍS, link: https://elpais.com/noticias/barack-obama/'"
      ]
     },
     "execution_count": 2,
     "metadata": {},
     "output_type": "execute_result"
    }
   ],
   "source": [
    "from langchain_community.tools import DuckDuckGoSearchResults\n",
    "\n",
    "search = DuckDuckGoSearchResults()\n",
    "\n",
    "search.invoke(\"Obama\")"
   ]
  }
 ],
 "metadata": {
  "kernelspec": {
   "display_name": "Python 3",
   "language": "python",
   "name": "python3"
  },
  "language_info": {
   "codemirror_mode": {
    "name": "ipython",
    "version": 3
   },
   "file_extension": ".py",
   "mimetype": "text/x-python",
   "name": "python",
   "nbconvert_exporter": "python",
   "pygments_lexer": "ipython3",
   "version": "3.10.11"
  }
 },
 "nbformat": 4,
 "nbformat_minor": 5
}
